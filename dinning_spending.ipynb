{
 "cells": [
  {
   "cell_type": "markdown",
   "metadata": {},
   "source": [
    "# My Dinning Spending Habits\n",
    "The purpose of this notebook is to examine my dinning spending habits during my years in college. I will be using data I receieving from Rit Dining from 08/2021 to 1/2022."
   ]
  },
  {
   "cell_type": "markdown",
   "metadata": {},
   "source": [
    "## Imports"
   ]
  },
  {
   "cell_type": "code",
   "execution_count": null,
   "metadata": {},
   "outputs": [],
   "source": [
    "import pandas as pd\n",
    "import seaborn as sns\n",
    "import matplotlib.pyplot as plt"
   ]
  },
  {
   "cell_type": "markdown",
   "metadata": {},
   "source": [
    "## Step One: Gathering the Data"
   ]
  },
  {
   "cell_type": "code",
   "execution_count": null,
   "metadata": {},
   "outputs": [],
   "source": [
    "august_df = pd.read_csv('sample-data/Dining Dollars (Meal Plan)_statement_2021-08-01_to_2021-08-31.csv')\n",
    "september_df = pd.read_csv('sample-data/Dining Dollars (Meal Plan)_statement_2021-09-01_to_2021-09-30.csv')\n",
    "october_df = pd.read_csv('sample-data/Dining Dollars (Meal Plan)_statement_2021-10-01_to_2021-10-31.csv')\n",
    "november_df = pd.read_csv('sample-data/Dining Dollars (Meal Plan)_statement_2021-11-01_to_2021-11-30.csv')\n",
    "december_df = pd.read_csv('sample-data/Dining Dollars (Meal Plan)_statement_2021-12-01_to_2021-12-14.csv')\n",
    "january_df = pd.read_csv('sample-data/Dining Dollars (Meal Plan)_statement_2021-12-16_to_2022-01-31.csv')\n"
   ]
  },
  {
   "cell_type": "code",
   "execution_count": null,
   "metadata": {},
   "outputs": [],
   "source": [
    "august_df.head(3)"
   ]
  },
  {
   "cell_type": "markdown",
   "metadata": {},
   "source": [
    "### Storing the DataFrame into lists catagorized by their semester"
   ]
  },
  {
   "cell_type": "code",
   "execution_count": null,
   "metadata": {},
   "outputs": [],
   "source": [
    "fall_semester = [august_df, september_df, october_df, november_df, december_df]\n",
    "spring_semester = [january_df]\n",
    "all_semesters = [fall_semester, spring_semester]"
   ]
  },
  {
   "cell_type": "markdown",
   "metadata": {},
   "source": [
    "## Step Two: Cleaning the Data"
   ]
  },
  {
   "cell_type": "markdown",
   "metadata": {},
   "source": [
    "### Helper Functions to Clean Up Unneeded Info in the Description Column"
   ]
  },
  {
   "cell_type": "code",
   "execution_count": null,
   "metadata": {},
   "outputs": [],
   "source": [
    "def remove_brackets(row):\n",
    "    return row.split(' [')[0]\n",
    "\n",
    "def remove_num_at_end(row):\n",
    "    if row[len(row)-1].isnumeric(): \n",
    "        return row[0:len(row)-2]\n",
    "    else:\n",
    "        return row\n",
    "\n",
    "def remove_bad_suffixes(row):\n",
    "    row = row.removesuffix(' OnDemand')\n",
    "    row = row.removesuffix(' - Tablet')\n",
    "    return row\n",
    "\n",
    "def clean_up_description(row):\n",
    "    row = remove_brackets(row)\n",
    "    row = remove_num_at_end(row)\n",
    "    row = remove_bad_suffixes(row)\n",
    "    return row"
   ]
  },
  {
   "cell_type": "markdown",
   "metadata": {},
   "source": [
    "### Helper Function for Creating New Time Columns"
   ]
  },
  {
   "cell_type": "code",
   "execution_count": null,
   "metadata": {},
   "outputs": [],
   "source": [
    "day_of_week_map = {0:'Mon',1:'Tue',2:'Wed',3:'Thu',4:'Fri',5:'Sat',6:'Sun'}\n",
    "\n",
    "def create_time_columns(t):\n",
    "    return pd.Series({'Year': t.year, 'Month': t.month, 'Day Of Week': t.day_of_week, 'Hour': t.hour})"
   ]
  },
  {
   "cell_type": "markdown",
   "metadata": {},
   "source": [
    "### Cleaning Up DataFrames and Combining Them Based on Semester"
   ]
  },
  {
   "cell_type": "code",
   "execution_count": null,
   "metadata": {},
   "outputs": [],
   "source": [
    "def clean_semester_data(semester):\n",
    "    for i in range(0, len(semester)):\n",
    "        semester[i].sort_values(by='Date', inplace=True)\n",
    "        semester[i]['Description'] = semester[i]['Description'].apply(clean_up_description)\n",
    "        semester[i]['Date'] = pd.to_datetime(semester[i]['Date'])\n",
    "        semester[i] = pd.concat([semester[i], semester[i]['Date'].apply(create_time_columns)], axis=1)\n",
    "        semester[i]['Day Of Week'] = semester[i]['Day Of Week'].map(day_of_week_map)\n",
    "        semester[i] = semester[i][['Description', 'Amount', 'Balance', 'Date', 'Year', 'Month', 'Day Of Week', 'Hour']]\n",
    "    return semester\n",
    "\n",
    "def aggregate_semester_data(semester):\n",
    "    semester = clean_semester_data(semester)\n",
    "\n",
    "    semester_df = semester[0]\n",
    "    for index in range(1, len(semester)):\n",
    "        semester_df = pd.concat([semester_df, semester[index]])\n",
    "\n",
    "    # semester_df.sort_values(by='Date', inplace=True)\n",
    "    semester_df = semester_df.reset_index()\n",
    "    semester_df.drop('index', axis=1, inplace=True)\n",
    "\n",
    "    return semester_df"
   ]
  },
  {
   "cell_type": "code",
   "execution_count": null,
   "metadata": {},
   "outputs": [],
   "source": [
    "fall_semester_df = aggregate_semester_data(fall_semester)\n",
    "spring_semester_df = aggregate_semester_data(spring_semester)"
   ]
  },
  {
   "cell_type": "markdown",
   "metadata": {},
   "source": [
    "## Step Three: Modeling and Analysing the Data"
   ]
  },
  {
   "cell_type": "markdown",
   "metadata": {},
   "source": [
    "### The Fall Semester"
   ]
  },
  {
   "cell_type": "code",
   "execution_count": null,
   "metadata": {},
   "outputs": [],
   "source": [
    "fall_semester[0].head()"
   ]
  },
  {
   "cell_type": "code",
   "execution_count": null,
   "metadata": {},
   "outputs": [],
   "source": [
    "fall_semester_df.info()"
   ]
  },
  {
   "cell_type": "code",
   "execution_count": null,
   "metadata": {},
   "outputs": [],
   "source": [
    "fall_semester_df"
   ]
  },
  {
   "cell_type": "markdown",
   "metadata": {},
   "source": [
    "#### How Much Did I Spend This Semester"
   ]
  },
  {
   "cell_type": "code",
   "execution_count": null,
   "metadata": {},
   "outputs": [],
   "source": [
    "fall_semester_df['Amount'].sum()"
   ]
  },
  {
   "cell_type": "code",
   "execution_count": null,
   "metadata": {},
   "outputs": [],
   "source": [
    "fall_semester_df['Balance'].iloc[299]"
   ]
  },
  {
   "cell_type": "markdown",
   "metadata": {},
   "source": [
    "### The Spring Semester"
   ]
  },
  {
   "cell_type": "code",
   "execution_count": null,
   "metadata": {},
   "outputs": [],
   "source": [
    "spring_semester_df.info()"
   ]
  },
  {
   "cell_type": "code",
   "execution_count": null,
   "metadata": {},
   "outputs": [],
   "source": [
    "spring_semester_df.head()"
   ]
  }
 ],
 "metadata": {
  "kernelspec": {
   "display_name": "Python 3.10.5 ('.venv': venv)",
   "language": "python",
   "name": "python3"
  },
  "language_info": {
   "codemirror_mode": {
    "name": "ipython",
    "version": 3
   },
   "file_extension": ".py",
   "mimetype": "text/x-python",
   "name": "python",
   "nbconvert_exporter": "python",
   "pygments_lexer": "ipython3",
   "version": "3.10.5"
  },
  "orig_nbformat": 4,
  "vscode": {
   "interpreter": {
    "hash": "905abf1bc3aac50bf7bb7e4aaff848bdfd985e141f5e27c7f546eca8c60e9a58"
   }
  }
 },
 "nbformat": 4,
 "nbformat_minor": 2
}
