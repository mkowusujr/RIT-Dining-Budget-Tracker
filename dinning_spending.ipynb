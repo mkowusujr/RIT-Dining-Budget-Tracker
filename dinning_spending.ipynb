{
 "cells": [
  {
   "cell_type": "markdown",
   "metadata": {},
   "source": [
    "# My Dinning Spending Habits\n",
    "The purpose of this notebook is to examine my dinning spending habits during my years in college. I will be using data I receieving from Rit Dining from 08/2021 to 1/2022."
   ]
  },
  {
   "cell_type": "markdown",
   "metadata": {},
   "source": [
    "## Imports"
   ]
  },
  {
   "cell_type": "code",
   "execution_count": 182,
   "metadata": {},
   "outputs": [],
   "source": [
    "import pandas as pd\n",
    "import seaborn as sns\n",
    "import matplotlib.pyplot as plt"
   ]
  },
  {
   "cell_type": "markdown",
   "metadata": {},
   "source": [
    "## Step One: Gathering the Data"
   ]
  },
  {
   "cell_type": "code",
   "execution_count": 183,
   "metadata": {},
   "outputs": [],
   "source": [
    "august_df = pd.read_csv('sample-data/Dining Dollars (Meal Plan)_statement_2021-08-01_to_2021-08-31.csv')\n",
    "september_df = pd.read_csv('sample-data/Dining Dollars (Meal Plan)_statement_2021-09-01_to_2021-09-30.csv')\n",
    "october_df = pd.read_csv('sample-data/Dining Dollars (Meal Plan)_statement_2021-10-01_to_2021-10-31.csv')\n",
    "november_df = pd.read_csv('sample-data/Dining Dollars (Meal Plan)_statement_2021-11-01_to_2021-11-30.csv')\n",
    "december_df = pd.read_csv('sample-data/Dining Dollars (Meal Plan)_statement_2021-12-01_to_2021-12-14.csv')\n",
    "january_df = pd.read_csv('sample-data/Dining Dollars (Meal Plan)_statement_2021-12-16_to_2022-01-31.csv')\n"
   ]
  },
  {
   "cell_type": "code",
   "execution_count": 184,
   "metadata": {},
   "outputs": [
    {
     "data": {
      "text/html": [
       "<div>\n",
       "<style scoped>\n",
       "    .dataframe tbody tr th:only-of-type {\n",
       "        vertical-align: middle;\n",
       "    }\n",
       "\n",
       "    .dataframe tbody tr th {\n",
       "        vertical-align: top;\n",
       "    }\n",
       "\n",
       "    .dataframe thead th {\n",
       "        text-align: right;\n",
       "    }\n",
       "</style>\n",
       "<table border=\"1\" class=\"dataframe\">\n",
       "  <thead>\n",
       "    <tr style=\"text-align: right;\">\n",
       "      <th></th>\n",
       "      <th>Date</th>\n",
       "      <th>Description</th>\n",
       "      <th>Amount</th>\n",
       "      <th>Balance</th>\n",
       "    </tr>\n",
       "  </thead>\n",
       "  <tbody>\n",
       "    <tr>\n",
       "      <th>0</th>\n",
       "      <td>8/31/2021 06:20PM</td>\n",
       "      <td>Beanz 1 [1505]</td>\n",
       "      <td>-5.29</td>\n",
       "      <td>2624.30</td>\n",
       "    </tr>\n",
       "    <tr>\n",
       "      <th>1</th>\n",
       "      <td>8/31/2021 05:52PM</td>\n",
       "      <td>Global Village Cantina &amp; Grille 2 [1591]</td>\n",
       "      <td>-9.99</td>\n",
       "      <td>2629.59</td>\n",
       "    </tr>\n",
       "    <tr>\n",
       "      <th>2</th>\n",
       "      <td>8/31/2021 12:54PM</td>\n",
       "      <td>GOL_1940_69_BEVERAGE</td>\n",
       "      <td>-2.25</td>\n",
       "      <td>2639.58</td>\n",
       "    </tr>\n",
       "  </tbody>\n",
       "</table>\n",
       "</div>"
      ],
      "text/plain": [
       "                Date                               Description  Amount  \\\n",
       "0  8/31/2021 06:20PM                            Beanz 1 [1505]   -5.29   \n",
       "1  8/31/2021 05:52PM  Global Village Cantina & Grille 2 [1591]   -9.99   \n",
       "2  8/31/2021 12:54PM                      GOL_1940_69_BEVERAGE   -2.25   \n",
       "\n",
       "   Balance  \n",
       "0  2624.30  \n",
       "1  2629.59  \n",
       "2  2639.58  "
      ]
     },
     "execution_count": 184,
     "metadata": {},
     "output_type": "execute_result"
    }
   ],
   "source": [
    "august_df.head(3)"
   ]
  },
  {
   "cell_type": "markdown",
   "metadata": {},
   "source": [
    "### Storing the DataFrame into lists catagorized by their semester"
   ]
  },
  {
   "cell_type": "code",
   "execution_count": 185,
   "metadata": {},
   "outputs": [],
   "source": [
    "fall_semester = [august_df, september_df, october_df, november_df, december_df]\n",
    "spring_semester = [january_df]\n",
    "all_semesters = [fall_semester, spring_semester]"
   ]
  },
  {
   "cell_type": "markdown",
   "metadata": {},
   "source": [
    "## Step Two: Cleaning the Data"
   ]
  },
  {
   "cell_type": "markdown",
   "metadata": {},
   "source": [
    "### Helper Functions to Clean Up Unneeded Info in the Description Column"
   ]
  },
  {
   "cell_type": "code",
   "execution_count": 186,
   "metadata": {},
   "outputs": [],
   "source": [
    "def remove_brackets(row):\n",
    "    return row.split(' [')[0]\n",
    "\n",
    "def remove_num_at_end(row):\n",
    "    if row[len(row)-1].isnumeric(): \n",
    "        return row[0:len(row)-2]\n",
    "    else:\n",
    "        return row\n",
    "\n",
    "def remove_bad_suffixes(row):\n",
    "    row = row.removesuffix(' OnDemand')\n",
    "    row = row.removesuffix(' - Tablet')\n",
    "    return row\n",
    "\n",
    "def clean_up_description(row):\n",
    "    row = remove_brackets(row)\n",
    "    row = remove_num_at_end(row)\n",
    "    row = remove_bad_suffixes(row)\n",
    "    return row"
   ]
  },
  {
   "cell_type": "markdown",
   "metadata": {},
   "source": [
    "### Helper Function for Creating New Time Columns"
   ]
  },
  {
   "cell_type": "code",
   "execution_count": 187,
   "metadata": {},
   "outputs": [],
   "source": [
    "day_of_week_map = {0:'Mon',1:'Tue',2:'Wed',3:'Thu',4:'Fri',5:'Sat',6:'Sun'}\n",
    "\n",
    "def create_time_columns(t):\n",
    "    return pd.Series({'Year': t.year, 'Month': t.month, 'Day Of Week': t.day_of_week, 'Hour': t.hour})"
   ]
  },
  {
   "cell_type": "markdown",
   "metadata": {},
   "source": [
    "### Cleaning Up DataFrames and Combining Them Based on Semester"
   ]
  },
  {
   "cell_type": "code",
   "execution_count": 188,
   "metadata": {},
   "outputs": [],
   "source": [
    "def clean_semester_data(semester):\n",
    "    for i in range(0, len(semester)):\n",
    "        semester[i]['Description'] = semester[i]['Description'].apply(clean_up_description)\n",
    "        semester[i]['Date'] = pd.to_datetime(semester[i]['Date'])\n",
    "        semester[i].sort_values(by='Date', inplace=True)\n",
    "        semester[i] = pd.concat([semester[i], semester[i]['Date'].apply(create_time_columns)], axis=1)\n",
    "        semester[i]['Day Of Week'] = semester[i]['Day Of Week'].map(day_of_week_map)\n",
    "        semester[i] = semester[i].reset_index()\n",
    "        semester[i].drop('index', axis=1, inplace=True)\n",
    "        semester[i] = semester[i][['Description', 'Amount', 'Balance', 'Date', 'Year', 'Month', 'Day Of Week', 'Hour']]\n",
    "    return semester\n",
    "\n",
    "def aggregate_semester_data(semester):\n",
    "    semester = clean_semester_data(semester)\n",
    "\n",
    "    semester_df = semester[0]\n",
    "    for index in range(1, len(semester)):\n",
    "        semester_df = pd.concat([semester_df, semester[index]])\n",
    "\n",
    "    semester_df = semester_df.reset_index()\n",
    "    semester_df.drop('index', axis=1, inplace=True)\n",
    "\n",
    "    return semester_df"
   ]
  },
  {
   "cell_type": "code",
   "execution_count": 189,
   "metadata": {},
   "outputs": [],
   "source": [
    "fall_semester_df = aggregate_semester_data(fall_semester)\n",
    "spring_semester_df = aggregate_semester_data(spring_semester)"
   ]
  },
  {
   "cell_type": "markdown",
   "metadata": {},
   "source": [
    "## Step Three: Modeling and Analysing the Data"
   ]
  },
  {
   "cell_type": "markdown",
   "metadata": {},
   "source": [
    "### The Fall Semester"
   ]
  },
  {
   "cell_type": "code",
   "execution_count": 190,
   "metadata": {},
   "outputs": [
    {
     "name": "stdout",
     "output_type": "stream",
     "text": [
      "<class 'pandas.core.frame.DataFrame'>\n",
      "RangeIndex: 300 entries, 0 to 299\n",
      "Data columns (total 8 columns):\n",
      " #   Column       Non-Null Count  Dtype         \n",
      "---  ------       --------------  -----         \n",
      " 0   Description  300 non-null    object        \n",
      " 1   Amount       300 non-null    float64       \n",
      " 2   Balance      300 non-null    float64       \n",
      " 3   Date         300 non-null    datetime64[ns]\n",
      " 4   Year         300 non-null    int64         \n",
      " 5   Month        300 non-null    int64         \n",
      " 6   Day Of Week  300 non-null    object        \n",
      " 7   Hour         300 non-null    int64         \n",
      "dtypes: datetime64[ns](1), float64(2), int64(3), object(2)\n",
      "memory usage: 18.9+ KB\n"
     ]
    }
   ],
   "source": [
    "fall_semester_df.info()"
   ]
  },
  {
   "cell_type": "code",
   "execution_count": 191,
   "metadata": {},
   "outputs": [
    {
     "data": {
      "text/html": [
       "<div>\n",
       "<style scoped>\n",
       "    .dataframe tbody tr th:only-of-type {\n",
       "        vertical-align: middle;\n",
       "    }\n",
       "\n",
       "    .dataframe tbody tr th {\n",
       "        vertical-align: top;\n",
       "    }\n",
       "\n",
       "    .dataframe thead th {\n",
       "        text-align: right;\n",
       "    }\n",
       "</style>\n",
       "<table border=\"1\" class=\"dataframe\">\n",
       "  <thead>\n",
       "    <tr style=\"text-align: right;\">\n",
       "      <th></th>\n",
       "      <th>Description</th>\n",
       "      <th>Amount</th>\n",
       "      <th>Balance</th>\n",
       "      <th>Date</th>\n",
       "      <th>Year</th>\n",
       "      <th>Month</th>\n",
       "      <th>Day Of Week</th>\n",
       "      <th>Hour</th>\n",
       "    </tr>\n",
       "  </thead>\n",
       "  <tbody>\n",
       "    <tr>\n",
       "      <th>0</th>\n",
       "      <td>Deposit</td>\n",
       "      <td>3020.00</td>\n",
       "      <td>3020.00</td>\n",
       "      <td>2021-08-04 09:01:00</td>\n",
       "      <td>2021</td>\n",
       "      <td>8</td>\n",
       "      <td>Wed</td>\n",
       "      <td>9</td>\n",
       "    </tr>\n",
       "    <tr>\n",
       "      <th>1</th>\n",
       "      <td>The Commons</td>\n",
       "      <td>-11.91</td>\n",
       "      <td>3008.09</td>\n",
       "      <td>2021-08-22 15:32:00</td>\n",
       "      <td>2021</td>\n",
       "      <td>8</td>\n",
       "      <td>Sun</td>\n",
       "      <td>15</td>\n",
       "    </tr>\n",
       "    <tr>\n",
       "      <th>2</th>\n",
       "      <td>Campus Concessions</td>\n",
       "      <td>-13.00</td>\n",
       "      <td>2995.09</td>\n",
       "      <td>2021-08-22 19:54:00</td>\n",
       "      <td>2021</td>\n",
       "      <td>8</td>\n",
       "      <td>Sun</td>\n",
       "      <td>19</td>\n",
       "    </tr>\n",
       "    <tr>\n",
       "      <th>3</th>\n",
       "      <td>Campus Concessions</td>\n",
       "      <td>-13.00</td>\n",
       "      <td>2982.09</td>\n",
       "      <td>2021-08-22 20:23:00</td>\n",
       "      <td>2021</td>\n",
       "      <td>8</td>\n",
       "      <td>Sun</td>\n",
       "      <td>20</td>\n",
       "    </tr>\n",
       "    <tr>\n",
       "      <th>4</th>\n",
       "      <td>Brick City Cafe</td>\n",
       "      <td>-19.58</td>\n",
       "      <td>2962.51</td>\n",
       "      <td>2021-08-23 12:39:00</td>\n",
       "      <td>2021</td>\n",
       "      <td>8</td>\n",
       "      <td>Mon</td>\n",
       "      <td>12</td>\n",
       "    </tr>\n",
       "  </tbody>\n",
       "</table>\n",
       "</div>"
      ],
      "text/plain": [
       "          Description   Amount  Balance                Date  Year  Month  \\\n",
       "0             Deposit  3020.00  3020.00 2021-08-04 09:01:00  2021      8   \n",
       "1         The Commons   -11.91  3008.09 2021-08-22 15:32:00  2021      8   \n",
       "2  Campus Concessions   -13.00  2995.09 2021-08-22 19:54:00  2021      8   \n",
       "3  Campus Concessions   -13.00  2982.09 2021-08-22 20:23:00  2021      8   \n",
       "4     Brick City Cafe   -19.58  2962.51 2021-08-23 12:39:00  2021      8   \n",
       "\n",
       "  Day Of Week  Hour  \n",
       "0         Wed     9  \n",
       "1         Sun    15  \n",
       "2         Sun    19  \n",
       "3         Sun    20  \n",
       "4         Mon    12  "
      ]
     },
     "execution_count": 191,
     "metadata": {},
     "output_type": "execute_result"
    }
   ],
   "source": [
    "fall_semester[0].head()"
   ]
  },
  {
   "cell_type": "code",
   "execution_count": 192,
   "metadata": {},
   "outputs": [
    {
     "data": {
      "text/html": [
       "<div>\n",
       "<style scoped>\n",
       "    .dataframe tbody tr th:only-of-type {\n",
       "        vertical-align: middle;\n",
       "    }\n",
       "\n",
       "    .dataframe tbody tr th {\n",
       "        vertical-align: top;\n",
       "    }\n",
       "\n",
       "    .dataframe thead th {\n",
       "        text-align: right;\n",
       "    }\n",
       "</style>\n",
       "<table border=\"1\" class=\"dataframe\">\n",
       "  <thead>\n",
       "    <tr style=\"text-align: right;\">\n",
       "      <th></th>\n",
       "      <th>Description</th>\n",
       "      <th>Amount</th>\n",
       "      <th>Balance</th>\n",
       "      <th>Date</th>\n",
       "      <th>Year</th>\n",
       "      <th>Month</th>\n",
       "      <th>Day Of Week</th>\n",
       "      <th>Hour</th>\n",
       "    </tr>\n",
       "  </thead>\n",
       "  <tbody>\n",
       "    <tr>\n",
       "      <th>0</th>\n",
       "      <td>Deposit</td>\n",
       "      <td>3020.00</td>\n",
       "      <td>3020.00</td>\n",
       "      <td>2021-08-04 09:01:00</td>\n",
       "      <td>2021</td>\n",
       "      <td>8</td>\n",
       "      <td>Wed</td>\n",
       "      <td>9</td>\n",
       "    </tr>\n",
       "    <tr>\n",
       "      <th>1</th>\n",
       "      <td>The Commons</td>\n",
       "      <td>-11.91</td>\n",
       "      <td>3008.09</td>\n",
       "      <td>2021-08-22 15:32:00</td>\n",
       "      <td>2021</td>\n",
       "      <td>8</td>\n",
       "      <td>Sun</td>\n",
       "      <td>15</td>\n",
       "    </tr>\n",
       "    <tr>\n",
       "      <th>2</th>\n",
       "      <td>Campus Concessions</td>\n",
       "      <td>-13.00</td>\n",
       "      <td>2995.09</td>\n",
       "      <td>2021-08-22 19:54:00</td>\n",
       "      <td>2021</td>\n",
       "      <td>8</td>\n",
       "      <td>Sun</td>\n",
       "      <td>19</td>\n",
       "    </tr>\n",
       "    <tr>\n",
       "      <th>3</th>\n",
       "      <td>Campus Concessions</td>\n",
       "      <td>-13.00</td>\n",
       "      <td>2982.09</td>\n",
       "      <td>2021-08-22 20:23:00</td>\n",
       "      <td>2021</td>\n",
       "      <td>8</td>\n",
       "      <td>Sun</td>\n",
       "      <td>20</td>\n",
       "    </tr>\n",
       "    <tr>\n",
       "      <th>4</th>\n",
       "      <td>Brick City Cafe</td>\n",
       "      <td>-19.58</td>\n",
       "      <td>2962.51</td>\n",
       "      <td>2021-08-23 12:39:00</td>\n",
       "      <td>2021</td>\n",
       "      <td>8</td>\n",
       "      <td>Mon</td>\n",
       "      <td>12</td>\n",
       "    </tr>\n",
       "    <tr>\n",
       "      <th>...</th>\n",
       "      <td>...</td>\n",
       "      <td>...</td>\n",
       "      <td>...</td>\n",
       "      <td>...</td>\n",
       "      <td>...</td>\n",
       "      <td>...</td>\n",
       "      <td>...</td>\n",
       "      <td>...</td>\n",
       "    </tr>\n",
       "    <tr>\n",
       "      <th>295</th>\n",
       "      <td>GOL_2942_67_SNACK</td>\n",
       "      <td>-2.35</td>\n",
       "      <td>22.19</td>\n",
       "      <td>2021-12-13 15:29:00</td>\n",
       "      <td>2021</td>\n",
       "      <td>12</td>\n",
       "      <td>Mon</td>\n",
       "      <td>15</td>\n",
       "    </tr>\n",
       "    <tr>\n",
       "      <th>296</th>\n",
       "      <td>GOL_2942_67_SNACK</td>\n",
       "      <td>-1.60</td>\n",
       "      <td>20.59</td>\n",
       "      <td>2021-12-13 15:30:00</td>\n",
       "      <td>2021</td>\n",
       "      <td>12</td>\n",
       "      <td>Mon</td>\n",
       "      <td>15</td>\n",
       "    </tr>\n",
       "    <tr>\n",
       "      <th>297</th>\n",
       "      <td>Cafe &amp; Market at Crossroads</td>\n",
       "      <td>-8.29</td>\n",
       "      <td>12.30</td>\n",
       "      <td>2021-12-13 19:17:00</td>\n",
       "      <td>2021</td>\n",
       "      <td>12</td>\n",
       "      <td>Mon</td>\n",
       "      <td>19</td>\n",
       "    </tr>\n",
       "    <tr>\n",
       "      <th>298</th>\n",
       "      <td>Ctrl Alt DELi</td>\n",
       "      <td>-6.89</td>\n",
       "      <td>5.41</td>\n",
       "      <td>2021-12-14 11:13:00</td>\n",
       "      <td>2021</td>\n",
       "      <td>12</td>\n",
       "      <td>Tue</td>\n",
       "      <td>11</td>\n",
       "    </tr>\n",
       "    <tr>\n",
       "      <th>299</th>\n",
       "      <td>Ben &amp; Jerry's</td>\n",
       "      <td>-5.41</td>\n",
       "      <td>0.00</td>\n",
       "      <td>2021-12-14 16:58:00</td>\n",
       "      <td>2021</td>\n",
       "      <td>12</td>\n",
       "      <td>Tue</td>\n",
       "      <td>16</td>\n",
       "    </tr>\n",
       "  </tbody>\n",
       "</table>\n",
       "<p>300 rows × 8 columns</p>\n",
       "</div>"
      ],
      "text/plain": [
       "                     Description   Amount  Balance                Date  Year  \\\n",
       "0                        Deposit  3020.00  3020.00 2021-08-04 09:01:00  2021   \n",
       "1                    The Commons   -11.91  3008.09 2021-08-22 15:32:00  2021   \n",
       "2             Campus Concessions   -13.00  2995.09 2021-08-22 19:54:00  2021   \n",
       "3             Campus Concessions   -13.00  2982.09 2021-08-22 20:23:00  2021   \n",
       "4                Brick City Cafe   -19.58  2962.51 2021-08-23 12:39:00  2021   \n",
       "..                           ...      ...      ...                 ...   ...   \n",
       "295            GOL_2942_67_SNACK    -2.35    22.19 2021-12-13 15:29:00  2021   \n",
       "296            GOL_2942_67_SNACK    -1.60    20.59 2021-12-13 15:30:00  2021   \n",
       "297  Cafe & Market at Crossroads    -8.29    12.30 2021-12-13 19:17:00  2021   \n",
       "298                Ctrl Alt DELi    -6.89     5.41 2021-12-14 11:13:00  2021   \n",
       "299                Ben & Jerry's    -5.41     0.00 2021-12-14 16:58:00  2021   \n",
       "\n",
       "     Month Day Of Week  Hour  \n",
       "0        8         Wed     9  \n",
       "1        8         Sun    15  \n",
       "2        8         Sun    19  \n",
       "3        8         Sun    20  \n",
       "4        8         Mon    12  \n",
       "..     ...         ...   ...  \n",
       "295     12         Mon    15  \n",
       "296     12         Mon    15  \n",
       "297     12         Mon    19  \n",
       "298     12         Tue    11  \n",
       "299     12         Tue    16  \n",
       "\n",
       "[300 rows x 8 columns]"
      ]
     },
     "execution_count": 192,
     "metadata": {},
     "output_type": "execute_result"
    }
   ],
   "source": [
    "fall_semester_df"
   ]
  },
  {
   "cell_type": "markdown",
   "metadata": {},
   "source": [
    "#### How Much Did I Spend This Semester"
   ]
  },
  {
   "cell_type": "code",
   "execution_count": 193,
   "metadata": {},
   "outputs": [
    {
     "data": {
      "text/plain": [
       "3020.0"
      ]
     },
     "execution_count": 193,
     "metadata": {},
     "output_type": "execute_result"
    }
   ],
   "source": [
    "fall_semester_df['Balance'].iloc[0] - fall_semester_df['Balance'].iloc[-1]"
   ]
  },
  {
   "cell_type": "code",
   "execution_count": 194,
   "metadata": {},
   "outputs": [
    {
     "data": {
      "text/plain": [
       "Text(0.5, 1.0, 'Balance over Semester')"
      ]
     },
     "execution_count": 194,
     "metadata": {},
     "output_type": "execute_result"
    },
    {
     "data": {
      "image/png": "[encoded data removed]",
      "text/plain": [
       "<Figure size 640x480 with 1 Axes>"
      ]
     },
     "metadata": {},
     "output_type": "display_data"
    }
   ],
   "source": [
    "plt.style.use('ggplot')\n",
    "fall_semester_df.plot.line(x='Date', y='Balance', color='green')\n",
    "axes = plt.gca()\n",
    "\n",
    "axes.set_xlim([fall_semester_df['Date'].iloc[0], fall_semester_df['Date'].iloc[-1]])\n",
    "axes.set_ylim([fall_semester_df['Balance'].iloc[-1], fall_semester_df['Balance'].iloc[0]])\n",
    "axes.set_ylabel('Balance')\n",
    "axes.set_title('Balance over Semester')"
   ]
  },
  {
   "cell_type": "markdown",
   "metadata": {},
   "source": [
    "### The Spring Semester"
   ]
  },
  {
   "cell_type": "code",
   "execution_count": 195,
   "metadata": {},
   "outputs": [
    {
     "name": "stdout",
     "output_type": "stream",
     "text": [
      "<class 'pandas.core.frame.DataFrame'>\n",
      "RangeIndex: 24 entries, 0 to 23\n",
      "Data columns (total 8 columns):\n",
      " #   Column       Non-Null Count  Dtype         \n",
      "---  ------       --------------  -----         \n",
      " 0   Description  24 non-null     object        \n",
      " 1   Amount       24 non-null     float64       \n",
      " 2   Balance      24 non-null     float64       \n",
      " 3   Date         24 non-null     datetime64[ns]\n",
      " 4   Year         24 non-null     int64         \n",
      " 5   Month        24 non-null     int64         \n",
      " 6   Day Of Week  24 non-null     object        \n",
      " 7   Hour         24 non-null     int64         \n",
      "dtypes: datetime64[ns](1), float64(2), int64(3), object(2)\n",
      "memory usage: 1.6+ KB\n"
     ]
    }
   ],
   "source": [
    "spring_semester_df.info()"
   ]
  },
  {
   "cell_type": "code",
   "execution_count": 196,
   "metadata": {},
   "outputs": [
    {
     "data": {
      "text/html": [
       "<div>\n",
       "<style scoped>\n",
       "    .dataframe tbody tr th:only-of-type {\n",
       "        vertical-align: middle;\n",
       "    }\n",
       "\n",
       "    .dataframe tbody tr th {\n",
       "        vertical-align: top;\n",
       "    }\n",
       "\n",
       "    .dataframe thead th {\n",
       "        text-align: right;\n",
       "    }\n",
       "</style>\n",
       "<table border=\"1\" class=\"dataframe\">\n",
       "  <thead>\n",
       "    <tr style=\"text-align: right;\">\n",
       "      <th></th>\n",
       "      <th>Description</th>\n",
       "      <th>Amount</th>\n",
       "      <th>Balance</th>\n",
       "      <th>Date</th>\n",
       "      <th>Year</th>\n",
       "      <th>Month</th>\n",
       "      <th>Day Of Week</th>\n",
       "      <th>Hour</th>\n",
       "    </tr>\n",
       "  </thead>\n",
       "  <tbody>\n",
       "    <tr>\n",
       "      <th>0</th>\n",
       "      <td>Deposit</td>\n",
       "      <td>3020.00</td>\n",
       "      <td>3020.00</td>\n",
       "      <td>2021-12-16 10:18:00</td>\n",
       "      <td>2021</td>\n",
       "      <td>12</td>\n",
       "      <td>Thu</td>\n",
       "      <td>10</td>\n",
       "    </tr>\n",
       "    <tr>\n",
       "      <th>1</th>\n",
       "      <td>The Commons</td>\n",
       "      <td>-10.18</td>\n",
       "      <td>3009.82</td>\n",
       "      <td>2022-01-09 12:40:00</td>\n",
       "      <td>2022</td>\n",
       "      <td>1</td>\n",
       "      <td>Sun</td>\n",
       "      <td>12</td>\n",
       "    </tr>\n",
       "    <tr>\n",
       "      <th>2</th>\n",
       "      <td>Brick City Cafe</td>\n",
       "      <td>-9.67</td>\n",
       "      <td>3000.15</td>\n",
       "      <td>2022-01-10 07:37:00</td>\n",
       "      <td>2022</td>\n",
       "      <td>1</td>\n",
       "      <td>Mon</td>\n",
       "      <td>7</td>\n",
       "    </tr>\n",
       "    <tr>\n",
       "      <th>3</th>\n",
       "      <td>Brick City Cafe</td>\n",
       "      <td>-3.60</td>\n",
       "      <td>2996.55</td>\n",
       "      <td>2022-01-10 07:55:00</td>\n",
       "      <td>2022</td>\n",
       "      <td>1</td>\n",
       "      <td>Mon</td>\n",
       "      <td>7</td>\n",
       "    </tr>\n",
       "    <tr>\n",
       "      <th>4</th>\n",
       "      <td>RITz Sports Zone</td>\n",
       "      <td>-9.99</td>\n",
       "      <td>2986.56</td>\n",
       "      <td>2022-01-11 16:27:00</td>\n",
       "      <td>2022</td>\n",
       "      <td>1</td>\n",
       "      <td>Tue</td>\n",
       "      <td>16</td>\n",
       "    </tr>\n",
       "  </tbody>\n",
       "</table>\n",
       "</div>"
      ],
      "text/plain": [
       "        Description   Amount  Balance                Date  Year  Month  \\\n",
       "0           Deposit  3020.00  3020.00 2021-12-16 10:18:00  2021     12   \n",
       "1       The Commons   -10.18  3009.82 2022-01-09 12:40:00  2022      1   \n",
       "2   Brick City Cafe    -9.67  3000.15 2022-01-10 07:37:00  2022      1   \n",
       "3   Brick City Cafe    -3.60  2996.55 2022-01-10 07:55:00  2022      1   \n",
       "4  RITz Sports Zone    -9.99  2986.56 2022-01-11 16:27:00  2022      1   \n",
       "\n",
       "  Day Of Week  Hour  \n",
       "0         Thu    10  \n",
       "1         Sun    12  \n",
       "2         Mon     7  \n",
       "3         Mon     7  \n",
       "4         Tue    16  "
      ]
     },
     "execution_count": 196,
     "metadata": {},
     "output_type": "execute_result"
    }
   ],
   "source": [
    "spring_semester_df.head()"
   ]
  }
 ],
 "metadata": {
  "kernelspec": {
   "display_name": "Python 3.10.5 ('.venv': venv)",
   "language": "python",
   "name": "python3"
  },
  "language_info": {
   "codemirror_mode": {
    "name": "ipython",
    "version": 3
   },
   "file_extension": ".py",
   "mimetype": "text/x-python",
   "name": "python",
   "nbconvert_exporter": "python",
   "pygments_lexer": "ipython3",
   "version": "3.10.5"
  },
  "orig_nbformat": 4,
  "vscode": {
   "interpreter": {
    "hash": "d609fb2ac511820f83480ead415699e504c68e3a6c51e0bef3b2a1e4cb0b7ab0"
   }
  }
 },
 "nbformat": 4,
 "nbformat_minor": 2
}
