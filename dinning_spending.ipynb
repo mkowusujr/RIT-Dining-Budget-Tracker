{
 "cells": [
  {
   "cell_type": "markdown",
   "metadata": {},
   "source": [
    "# My Dinning Spending Habits\n",
    "The purpose of this notebook is to examine my dinning spending habits during my years in college. I will be using data I receieving from Rit Dining from 08/2021 to 1/2022."
   ]
  },
  {
   "cell_type": "markdown",
   "metadata": {},
   "source": [
    "## Imports"
   ]
  },
  {
   "cell_type": "code",
   "execution_count": null,
   "metadata": {},
   "outputs": [],
   "source": [
    "import pandas as pd\n",
    "import plotly.express as px\n",
    "from plotly.subplots import make_subplots\n",
    "import plotly.graph_objects as go"
   ]
  },
  {
   "cell_type": "markdown",
   "metadata": {},
   "source": [
    "## Step One: Gathering the Data"
   ]
  },
  {
   "cell_type": "code",
   "execution_count": null,
   "metadata": {},
   "outputs": [],
   "source": [
    "august_df = pd.read_csv('sample-data/Dining Dollars (Meal Plan)_statement_2021-08-01_to_2021-08-31.csv')\n",
    "september_df = pd.read_csv('sample-data/Dining Dollars (Meal Plan)_statement_2021-09-01_to_2021-09-30.csv')\n",
    "october_df = pd.read_csv('sample-data/Dining Dollars (Meal Plan)_statement_2021-10-01_to_2021-10-31.csv')\n",
    "november_df = pd.read_csv('sample-data/Dining Dollars (Meal Plan)_statement_2021-11-01_to_2021-11-30.csv')\n",
    "december_df = pd.read_csv('sample-data/Dining Dollars (Meal Plan)_statement_2021-12-01_to_2021-12-14.csv')\n",
    "january_df = pd.read_csv('sample-data/Dining Dollars (Meal Plan)_statement_2021-12-16_to_2022-01-31.csv')\n"
   ]
  },
  {
   "cell_type": "code",
   "execution_count": null,
   "metadata": {},
   "outputs": [],
   "source": [
    "august_df.head(3)"
   ]
  },
  {
   "cell_type": "markdown",
   "metadata": {},
   "source": [
    "### Storing the DataFrame into lists catagorized by their semester"
   ]
  },
  {
   "cell_type": "code",
   "execution_count": null,
   "metadata": {},
   "outputs": [],
   "source": [
    "fall_semester = [august_df, september_df, october_df, november_df, december_df]\n",
    "spring_semester = [january_df]\n",
    "all_semesters = [fall_semester, spring_semester]"
   ]
  },
  {
   "cell_type": "markdown",
   "metadata": {},
   "source": [
    "## Step Two: Cleaning the Data"
   ]
  },
  {
   "cell_type": "markdown",
   "metadata": {},
   "source": [
    "### Helper Functions to Clean Up Unneeded Info in the Description Column"
   ]
  },
  {
   "cell_type": "code",
   "execution_count": null,
   "metadata": {},
   "outputs": [],
   "source": [
    "def remove_brackets(row):\n",
    "    return row.split(' [')[0]\n",
    "\n",
    "def remove_num_at_end(row):\n",
    "    if row[len(row)-1].isnumeric(): \n",
    "        return row[0:len(row)-2]\n",
    "    else:\n",
    "        return row\n",
    "\n",
    "def remove_bad_suffixes(row):\n",
    "    row = row.removesuffix(' OnDemand')\n",
    "    row = row.removesuffix(' - Tablet')\n",
    "    return row\n",
    "\n",
    "def clean_up_description(row):\n",
    "    row = remove_brackets(row)\n",
    "    row = remove_num_at_end(row)\n",
    "    row = remove_bad_suffixes(row)\n",
    "    return row"
   ]
  },
  {
   "cell_type": "markdown",
   "metadata": {},
   "source": [
    "### Helper Function for Creating New Time Columns"
   ]
  },
  {
   "cell_type": "code",
   "execution_count": null,
   "metadata": {},
   "outputs": [],
   "source": [
    "day_of_week_map = {0:'Mon',1:'Tue',2:'Wed',3:'Thu',4:'Fri',5:'Sat',6:'Sun'}\n",
    "\n",
    "def create_time_columns(t):\n",
    "    return pd.Series({'Year': t.year, 'Month': t.month, 'Day Of Week': t.day_of_week, 'Hour': t.hour})"
   ]
  },
  {
   "cell_type": "markdown",
   "metadata": {},
   "source": [
    "### Cleaning Up DataFrames and Combining Them Based on Semester"
   ]
  },
  {
   "cell_type": "code",
   "execution_count": null,
   "metadata": {},
   "outputs": [],
   "source": [
    "def clean_semester_data(semester):\n",
    "    for i in range(0, len(semester)):\n",
    "        semester[i]['Description'] = semester[i]['Description'].apply(clean_up_description)\n",
    "        semester[i]['Date'] = pd.to_datetime(semester[i]['Date'])\n",
    "        semester[i].sort_values(by='Date', inplace=True)\n",
    "        semester[i] = pd.concat([semester[i], semester[i]['Date'].apply(create_time_columns)], axis=1)\n",
    "        semester[i]['Day Of Week'] = semester[i]['Day Of Week'].map(day_of_week_map)\n",
    "        semester[i] = semester[i].reset_index()\n",
    "        semester[i].drop('index', axis=1, inplace=True)\n",
    "        semester[i] = semester[i][['Description', 'Amount', 'Balance', 'Date', 'Year', 'Month', 'Day Of Week', 'Hour']]\n",
    "    return semester\n",
    "\n",
    "def aggregate_semester_data(semester):\n",
    "    semester = clean_semester_data(semester)\n",
    "\n",
    "    semester_df = semester[0]\n",
    "    for index in range(1, len(semester)):\n",
    "        semester_df = pd.concat([semester_df, semester[index]])\n",
    "\n",
    "    semester_df = semester_df.reset_index()\n",
    "    semester_df.drop('index', axis=1, inplace=True)\n",
    "    semester_df['Date'] = semester_df['Date'].apply(lambda date: date.date())\n",
    "\n",
    "    return semester_df"
   ]
  },
  {
   "cell_type": "code",
   "execution_count": null,
   "metadata": {},
   "outputs": [],
   "source": [
    "fall_semester_df = aggregate_semester_data(fall_semester)\n",
    "spring_semester_df = aggregate_semester_data(spring_semester)"
   ]
  },
  {
   "cell_type": "markdown",
   "metadata": {},
   "source": [
    "## Step Three: Modeling and Analysing the Data"
   ]
  },
  {
   "cell_type": "markdown",
   "metadata": {},
   "source": [
    "### The Fall Semester"
   ]
  },
  {
   "cell_type": "markdown",
   "metadata": {},
   "source": [
    "#### Previewing the Fall Semester Data Frame"
   ]
  },
  {
   "cell_type": "code",
   "execution_count": null,
   "metadata": {},
   "outputs": [],
   "source": [
    "fall_semester_df"
   ]
  },
  {
   "cell_type": "code",
   "execution_count": null,
   "metadata": {},
   "outputs": [],
   "source": [
    "fall_semester_df.info()"
   ]
  },
  {
   "cell_type": "code",
   "execution_count": null,
   "metadata": {},
   "outputs": [],
   "source": [
    "px.line(fall_semester_df, x='Date', y='Balance', title='Balance Over Semester')"
   ]
  },
  {
   "cell_type": "markdown",
   "metadata": {},
   "source": [
    "#### How Much Did I Spend This Semester"
   ]
  },
  {
   "cell_type": "code",
   "execution_count": null,
   "metadata": {},
   "outputs": [],
   "source": [
    "answer = fall_semester_df['Balance'].iloc[0] - fall_semester_df['Balance'].iloc[-1]\n",
    "print('This semester I spent ${0:.2f} in total'.format(answer))"
   ]
  },
  {
   "cell_type": "code",
   "execution_count": null,
   "metadata": {},
   "outputs": [],
   "source": [
    "augTotal = abs(\n",
    "    fall_semester_df[fall_semester_df['Month'] == 8]['Amount'].iloc[1:].sum())\n",
    "septTotal = abs(\n",
    "    fall_semester_df[fall_semester_df['Month'] == 9]['Amount'].sum())\n",
    "octTotal = abs(\n",
    "    fall_semester_df[fall_semester_df['Month'] == 10]['Amount'].sum())\n",
    "novTotal = abs(\n",
    "    fall_semester_df[fall_semester_df['Month'] == 11]['Amount'].sum())\n",
    "decTotal = abs(\n",
    "    fall_semester_df[fall_semester_df['Month'] == 12]['Amount'].sum())"
   ]
  },
  {
   "cell_type": "code",
   "execution_count": null,
   "metadata": {},
   "outputs": [],
   "source": [
    "monthSpendingsDf = pd.DataFrame({'Month': ['August', 'September', 'October', 'November', 'December'], 'Total Spent': [\n",
    "                                augTotal, septTotal, octTotal, novTotal, decTotal]})\n",
    "\n",
    "fig = px.bar(monthSpendingsDf, x='Month', y='Total Spent',\n",
    "       title='Money Spent Each Month')\n",
    "fig.show()\n",
    "\n",
    "print(\"\"\"In august I spent ${0:.2f},\n",
    "In september I spent ${1:.2f},\n",
    "In october I spent ${2:.2f},\n",
    "In november I spent ${3:.2f},\n",
    "In december I spent ${4:.2f}.\"\"\".format(augTotal, septTotal, octTotal, novTotal, decTotal))\n"
   ]
  },
  {
   "cell_type": "code",
   "execution_count": null,
   "metadata": {},
   "outputs": [],
   "source": [
    "import math\n",
    "\n",
    "monthsDict = {\n",
    "    8: {'name': 'August', 'num': 8}, \n",
    "    9: {'name': 'September', 'num': 9}, \n",
    "    10: {'name': 'October', 'num': 10}, \n",
    "    11: {'name': 'November', 'num': 11}, \n",
    "    12: {'name': 'December', 'num': 12}\n",
    "    }\n",
    "\n",
    "\n",
    "def getDataFrameSubset(month_dict):\n",
    "    monthDf = fall_semester_df[fall_semester_df['Month']\n",
    "                               == month_dict['num']].iloc[0:]\n",
    "    if month_dict['num'] == 8:\n",
    "        monthDf = fall_semester_df[fall_semester_df['Month']\n",
    "                                == month_dict['num']].iloc[1:]\n",
    "    return monthDf\n",
    "\n",
    "\n",
    "def groupByDate(monthDf):\n",
    "    monthDf['Amount'] = monthDf['Amount'].apply(lambda money: abs(money))\n",
    "    monthSpendingsPerDay = monthDf.groupby(by=['Date'])['Amount'].sum()\n",
    "    return monthSpendingsPerDay\n",
    "\n",
    "\n",
    "def createGraph(monthSpendingsPerDay, month_dict):\n",
    "    fig = px.bar(monthSpendingsPerDay, y='Amount',\n",
    "                 title='Money Spent Per Day in {0}'.format(month_dict['name']))\n",
    "    fig.show()\n",
    "\n",
    "\n",
    "def round_up(n, decimals=0):\n",
    "    multiplier = 10 ** decimals\n",
    "    return math.ceil(n * multiplier) / multiplier\n",
    "\n",
    "\n",
    "def getMeanSpending(month_num):\n",
    "    monthDf = getDataFrameSubset(monthsDict[month_num])\n",
    "    monthSpendingsPerDay = groupByDate(monthDf)\n",
    "    return round_up(monthSpendingsPerDay.mean(), 2)\n",
    "\n",
    "\n",
    "def spendingInMonthPerDay(month_dict):\n",
    "    monthDf = getDataFrameSubset(month_dict)\n",
    "                                \n",
    "    monthSpendingsPerDay = groupByDate(monthDf)\n",
    "\n",
    "    createGraph(monthSpendingsPerDay, month_dict)\n",
    "\n",
    "    print('On average in {0} I spent ${1:.2f} per day over {2} days'.format(\n",
    "        month_dict['name'], monthSpendingsPerDay.mean(), monthSpendingsPerDay.count()))"
   ]
  },
  {
   "cell_type": "code",
   "execution_count": null,
   "metadata": {},
   "outputs": [],
   "source": [
    "spendingInMonthPerDay(monthsDict[8])"
   ]
  },
  {
   "cell_type": "code",
   "execution_count": null,
   "metadata": {},
   "outputs": [],
   "source": [
    "spendingInMonthPerDay(monthsDict[9])"
   ]
  },
  {
   "cell_type": "code",
   "execution_count": null,
   "metadata": {},
   "outputs": [],
   "source": [
    "spendingInMonthPerDay(monthsDict[10])"
   ]
  },
  {
   "cell_type": "code",
   "execution_count": null,
   "metadata": {},
   "outputs": [],
   "source": [
    "spendingInMonthPerDay(monthsDict[11])"
   ]
  },
  {
   "cell_type": "code",
   "execution_count": null,
   "metadata": {},
   "outputs": [],
   "source": [
    "spendingInMonthPerDay(monthsDict[11])"
   ]
  },
  {
   "cell_type": "code",
   "execution_count": null,
   "metadata": {},
   "outputs": [],
   "source": [
    "avgSpendingEachMonth = []\n",
    "\n",
    "for month in monthsDict:\n",
    "    avgSpendingEachMonth.append(getMeanSpending(month))\n",
    "\n",
    "avgSpendingEachMonth\n",
    "\n",
    "monthSpendingsDf['Average Spent Per Day'] = avgSpendingEachMonth\n",
    "monthSpendingsDf"
   ]
  },
  {
   "cell_type": "code",
   "execution_count": null,
   "metadata": {},
   "outputs": [],
   "source": [
    "fig = px.bar(monthSpendingsDf, x='Month', y='Average Spent Per Day',\n",
    "             title='Average Money Spent Per Day Each Month')\n",
    "fig.show()"
   ]
  },
  {
   "cell_type": "code",
   "execution_count": null,
   "metadata": {},
   "outputs": [],
   "source": [
    "# Create Subplot\n",
    "fig = make_subplots(rows=2, cols=1, subplot_titles=(\n",
    "    'Money Spent Each Month', 'Average Money Spent Per Day Each Month'))\n",
    "\n",
    "# Adding Traces\n",
    "fig.add_trace(\n",
    "    go.Bar(x=monthSpendingsDf['Month'],\n",
    "           y=monthSpendingsDf['Total Spent'], name='Total Per Month'),\n",
    "    row=1, col=1\n",
    ")\n",
    "fig.add_trace(\n",
    "    go.Bar(x=monthSpendingsDf['Month'],\n",
    "           y=monthSpendingsDf['Average Spent Per Day'], name='Average Per Month'),\n",
    "    row=2, col=1\n",
    ")\n",
    "\n",
    "# Updating Axis\n",
    "fig.update_xaxes(title_text=\"Date\", row=1, col=1)\n",
    "fig.update_xaxes(title_text=\"Date\", row=2, col=1)\n",
    "\n",
    "fig.update_yaxes(title_text=\"Money Spent\", row=1, col=1)\n",
    "fig.update_yaxes(title_text=\"Money Spent\", row=2, col=1)\n",
    "\n",
    "# Update title and height\n",
    "fig.update_layout(\n",
    "    title_text=\"Comparing Total Spent Per Month and Average Spent Per Month\", height=700)"
   ]
  },
  {
   "cell_type": "code",
   "execution_count": null,
   "metadata": {},
   "outputs": [],
   "source": [
    "fall_semester_df.head(1)"
   ]
  },
  {
   "cell_type": "code",
   "execution_count": null,
   "metadata": {},
   "outputs": [],
   "source": [
    "spendingsPerDayOfWeek = fall_semester_df.iloc[1:].groupby(\n",
    "    by=\"Day Of Week\")[\"Amount\"].sum().apply(lambda total: abs(total))\n",
    "spendingsPerDayOfWeek = spendingsPerDayOfWeek[[\n",
    "    'Sun', 'Mon', 'Tue', 'Wed', 'Thu', 'Fri', 'Sat']]\n",
    "px.bar(spendingsPerDayOfWeek, y='Amount', title='Spendings Per Day Of Week')"
   ]
  },
  {
   "cell_type": "code",
   "execution_count": null,
   "metadata": {},
   "outputs": [],
   "source": [
    "fall_semester_df.iloc[1:].groupby(\n",
    "    by=\"Day Of Week\")[\"Amount\"].count()[[\n",
    "        'Sun', 'Mon', 'Tue', 'Wed', 'Thu', 'Fri', 'Sat']]"
   ]
  },
  {
   "cell_type": "code",
   "execution_count": null,
   "metadata": {},
   "outputs": [],
   "source": [
    "meanSpendingsPerDayOfWeek = fall_semester_df.iloc[1:].groupby(\n",
    "    by=\"Day Of Week\")[\"Amount\"].mean().apply(lambda total: abs(total))\n",
    "meanSpendingsPerDayOfWeek = meanSpendingsPerDayOfWeek[[\n",
    "    'Sun', 'Mon', 'Tue', 'Wed', 'Thu', 'Fri', 'Sat']]\n",
    "px.bar(meanSpendingsPerDayOfWeek, y='Amount',\n",
    "       title='Mean Spending Per Day Of Week')"
   ]
  },
  {
   "cell_type": "markdown",
   "metadata": {},
   "source": [
    "##### Conclusion"
   ]
  },
  {
   "cell_type": "markdown",
   "metadata": {},
   "source": [
    "After looking at the top level of my spending habits I realized that I spend the most in the second month"
   ]
  },
  {
   "cell_type": "markdown",
   "metadata": {},
   "source": [
    "### The Spring Semester"
   ]
  },
  {
   "cell_type": "code",
   "execution_count": null,
   "metadata": {},
   "outputs": [],
   "source": [
    "spring_semester_df.head()"
   ]
  },
  {
   "cell_type": "code",
   "execution_count": null,
   "metadata": {},
   "outputs": [],
   "source": [
    "spring_semester_df.info()"
   ]
  }
 ],
 "metadata": {
  "kernelspec": {
   "display_name": "Python 3.10.5 ('.venv': venv)",
   "language": "python",
   "name": "python3"
  },
  "language_info": {
   "codemirror_mode": {
    "name": "ipython",
    "version": 3
   },
   "file_extension": ".py",
   "mimetype": "text/x-python",
   "name": "python",
   "nbconvert_exporter": "python",
   "pygments_lexer": "ipython3",
   "version": "3.10.5"
  },
  "orig_nbformat": 4,
  "vscode": {
   "interpreter": {
    "hash": "d609fb2ac511820f83480ead415699e504c68e3a6c51e0bef3b2a1e4cb0b7ab0"
   }
  }
 },
 "nbformat": 4,
 "nbformat_minor": 2
}
